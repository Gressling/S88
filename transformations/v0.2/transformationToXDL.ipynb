{
  "nbformat": 4,
  "nbformat_minor": 0,
  "metadata": {
    "colab": {
      "provenance": [],
      "authorship_tag": "ABX9TyOocO6yX3I01TwAslqEsQaH",
      "include_colab_link": true
    },
    "kernelspec": {
      "name": "python3",
      "display_name": "Python 3"
    },
    "language_info": {
      "name": "python"
    }
  },
  "cells": [
    {
      "cell_type": "markdown",
      "metadata": {
        "id": "view-in-github",
        "colab_type": "text"
      },
      "source": [
        "<a href=\"https://colab.research.google.com/github/Gressling/S88-NG/blob/main/transformations/v0.2/transformationToXDL.ipynb\" target=\"_parent\"><img src=\"https://colab.research.google.com/assets/colab-badge.svg\" alt=\"Open In Colab\"/></a>"
      ]
    },
    {
      "cell_type": "code",
      "execution_count": 1,
      "metadata": {
        "id": "aydkcQmnTU5Q"
      },
      "outputs": [],
      "source": [
        "# go"
      ]
    },
    {
      "cell_type": "code",
      "source": [
        "pip install requests lxml"
      ],
      "metadata": {
        "colab": {
          "base_uri": "https://localhost:8080/"
        },
        "id": "dcln6aWcTWMq",
        "outputId": "ca7f2d7c-5832-413b-eecb-b8e4397fea82"
      },
      "execution_count": 2,
      "outputs": [
        {
          "output_type": "stream",
          "name": "stdout",
          "text": [
            "Requirement already satisfied: requests in /usr/local/lib/python3.10/dist-packages (2.31.0)\n",
            "Requirement already satisfied: lxml in /usr/local/lib/python3.10/dist-packages (4.9.3)\n",
            "Requirement already satisfied: charset-normalizer<4,>=2 in /usr/local/lib/python3.10/dist-packages (from requests) (3.2.0)\n",
            "Requirement already satisfied: idna<4,>=2.5 in /usr/local/lib/python3.10/dist-packages (from requests) (3.4)\n",
            "Requirement already satisfied: urllib3<3,>=1.21.1 in /usr/local/lib/python3.10/dist-packages (from requests) (1.26.16)\n",
            "Requirement already satisfied: certifi>=2017.4.17 in /usr/local/lib/python3.10/dist-packages (from requests) (2023.7.22)\n"
          ]
        }
      ]
    },
    {
      "cell_type": "code",
      "source": [
        "import requests\n",
        "from lxml import etree\n",
        "\n",
        "# URLs\n",
        "xml_url = \"https://raw.githubusercontent.com/Gressling/S88-NG/main/transformations/v0.2/XDL-test.xml\"\n",
        "xslt_url = \"https://raw.githubusercontent.com/Gressling/S88-NG/main/transformations/v0.2/s88ngToXDL.xslt\"\n",
        "\n",
        "# Fetch XML and XSLT data\n",
        "xml_data = requests.get(xml_url).content\n",
        "xslt_data = requests.get(xslt_url).content\n",
        "\n",
        "# Parse the XML and XSLT data\n",
        "xml_root = etree.XML(xml_data)\n",
        "xslt_root = etree.XML(xslt_data)\n",
        "\n",
        "# Create the transform function\n",
        "transform = etree.XSLT(xslt_root)\n",
        "\n",
        "# Transform the XML\n",
        "result_tree = transform(xml_root)\n",
        "\n",
        "# Print the transformed XML\n",
        "print(str(result_tree))\n",
        "\n"
      ],
      "metadata": {
        "colab": {
          "base_uri": "https://localhost:8080/"
        },
        "id": "B_qQgF-kTYaO",
        "outputId": "2820c16a-e915-4caf-bbc6-c97374035a57"
      },
      "execution_count": 5,
      "outputs": [
        {
          "output_type": "stream",
          "name": "stdout",
          "text": [
            "<?xml version=\"1.0\"?>\n",
            "<Batch>\n",
            "     <Hardware>\n",
            "         <Component id=\"reactor\" type=\"reactor\"/>\n",
            "     </Hardware>\n",
            "\n",
            "     <Parameters>\n",
            "         <Parameter id=\"reaction_time\" type=\"time\" value=\"12 h\"/>\n",
            "         <Parameter id=\"reaction_temp\" type=\"temp\"/>\n",
            "     </Parameters>\n",
            "\n",
            "     <AddOnce>\n",
            "         <Reagent id=\"grignard_reagent\"/>\n",
            "         <Reagent id=\"carbonyl\"/>\n",
            "         <Reagent id=\"reaction_solvent\"/>\n",
            "     </AddOnce>\n",
            "\n",
            "     <Sequence>\n",
            "         <Add reagent=\"carbonyl\" vessel=\"reactor\" amount=\"2 eq\"/>\n",
            "         <Add reagent=\"solvent\" vessel=\"reactor\" amount=\"2 mL\"/>\n",
            "         <Add reagent=\"grignard_reagent\" vessel=\"reactor\" amount=\"1 eq\" time=\"5 min\"/>\n",
            "\n",
            "         <!-- Parameter values used for temp and time -->\n",
            "         <Heating vessel=\"reactor\" temp=\"reaction_temp\" time=\"reaction_time\" stir=\"true\"/>\n",
            "     </Sequence>\n",
            " </Batch>\n",
            "\n"
          ]
        }
      ]
    }
  ]
}