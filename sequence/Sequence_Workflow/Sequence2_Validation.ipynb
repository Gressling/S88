{
  "nbformat": 4,
  "nbformat_minor": 0,
  "metadata": {
    "colab": {
      "provenance": []
    },
    "kernelspec": {
      "name": "python3",
      "display_name": "Python 3"
    },
    "language_info": {
      "name": "python"
    }
  },
  "cells": [
    {
      "cell_type": "code",
      "execution_count": 2,
      "metadata": {
        "id": "6a5kj_hthg-7",
        "outputId": "eb329773-6e0e-4071-cd24-845d578d28b4",
        "colab": {
          "base_uri": "https://localhost:8080/"
        }
      },
      "outputs": [
        {
          "output_type": "stream",
          "name": "stdout",
          "text": [
            "/content/Sequence2.xml is valid against /content/Sequence2.xsd\n"
          ]
        }
      ],
      "source": [
        "from lxml import etree\n",
        "\n",
        "def validate_xml(xml_path, xsd_path):\n",
        "    try:\n",
        "        xml_tree = etree.parse(xml_path)\n",
        "        xsd_tree = etree.parse(xsd_path)\n",
        "        xmlschema = etree.XMLSchema(xsd_tree)\n",
        "\n",
        "        if xmlschema.validate(xml_tree):\n",
        "            print(f\"{xml_path} is valid against {xsd_path}\")\n",
        "        else:\n",
        "            print(f\"{xml_path} is not valid against {xsd_path}\")\n",
        "            print(\"Validation errors:\")\n",
        "            for error in xmlschema.error_log:\n",
        "                print(f\"Line {error.line}: {error.message}\")\n",
        "    except etree.XMLSyntaxError as e:\n",
        "        print(f\"XML syntax error: {e}\")\n",
        "\n",
        "xml_file_path = \"/content/Sequence2.xml\"\n",
        "xsd_file_path = \"/content/Sequence2.xsd\"\n",
        "\n",
        "validate_xml(xml_file_path, xsd_file_path)\n"
      ]
    },
    {
      "cell_type": "code",
      "source": [
        "\n"
      ],
      "metadata": {
        "id": "e5g00TLKL37e"
      },
      "execution_count": null,
      "outputs": []
    }
  ]
}