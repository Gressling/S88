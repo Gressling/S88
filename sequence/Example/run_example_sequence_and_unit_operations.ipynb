{
  "nbformat": 4,
  "nbformat_minor": 0,
  "metadata": {
    "colab": {
      "provenance": [],
      "authorship_tag": "ABX9TyNGEaGTMVB08Y1Au2usLjzT",
      "include_colab_link": true
    },
    "kernelspec": {
      "name": "python3",
      "display_name": "Python 3"
    },
    "language_info": {
      "name": "python"
    }
  },
  "cells": [
    {
      "cell_type": "markdown",
      "metadata": {
        "id": "view-in-github",
        "colab_type": "text"
      },
      "source": [
        "<a href=\"https://colab.research.google.com/github/Gressling/S88-NG/blob/main/sequence/Example/run_example_sequence_and_unit_operations.ipynb\" target=\"_parent\"><img src=\"https://colab.research.google.com/assets/colab-badge.svg\" alt=\"Open In Colab\"/></a>"
      ]
    },
    {
      "cell_type": "code",
      "source": [
        "# go"
      ],
      "metadata": {
        "id": "wZGZ3gvyUmuG"
      },
      "execution_count": null,
      "outputs": []
    },
    {
      "cell_type": "code",
      "source": [
        "pip install bonobo lxml"
      ],
      "metadata": {
        "colab": {
          "base_uri": "https://localhost:8080/"
        },
        "id": "O7ND2QInUqyo",
        "outputId": "08c8fe65-fc44-4eb3-ddf1-139e5f4e14d0"
      },
      "execution_count": null,
      "outputs": [
        {
          "output_type": "stream",
          "name": "stdout",
          "text": [
            "Requirement already satisfied: bonobo in /usr/local/lib/python3.10/dist-packages (0.6.4)\n",
            "Requirement already satisfied: lxml in /usr/local/lib/python3.10/dist-packages (4.9.3)\n",
            "Requirement already satisfied: fs~=2.0 in /usr/local/lib/python3.10/dist-packages (from bonobo) (2.4.16)\n",
            "Requirement already satisfied: graphviz<0.9,>=0.8 in /usr/local/lib/python3.10/dist-packages (from bonobo) (0.8.4)\n",
            "Requirement already satisfied: jinja2~=2.9 in /usr/local/lib/python3.10/dist-packages (from bonobo) (2.11.3)\n",
            "Requirement already satisfied: mondrian~=0.7 in /usr/local/lib/python3.10/dist-packages (from bonobo) (0.8.1)\n",
            "Requirement already satisfied: packaging~=19.0 in /usr/local/lib/python3.10/dist-packages (from bonobo) (19.2)\n",
            "Requirement already satisfied: psutil~=5.4 in /usr/local/lib/python3.10/dist-packages (from bonobo) (5.9.5)\n",
            "Requirement already satisfied: python-slugify~=1.2.0 in /usr/local/lib/python3.10/dist-packages (from bonobo) (1.2.6)\n",
            "Requirement already satisfied: requests~=2.0 in /usr/local/lib/python3.10/dist-packages (from bonobo) (2.27.1)\n",
            "Requirement already satisfied: stevedore~=1.27 in /usr/local/lib/python3.10/dist-packages (from bonobo) (1.32.0)\n",
            "Requirement already satisfied: whistle~=1.0 in /usr/local/lib/python3.10/dist-packages (from bonobo) (1.0.1)\n",
            "Requirement already satisfied: appdirs~=1.4.3 in /usr/local/lib/python3.10/dist-packages (from fs~=2.0->bonobo) (1.4.4)\n",
            "Requirement already satisfied: setuptools in /usr/local/lib/python3.10/dist-packages (from fs~=2.0->bonobo) (67.7.2)\n",
            "Requirement already satisfied: six~=1.10 in /usr/local/lib/python3.10/dist-packages (from fs~=2.0->bonobo) (1.16.0)\n",
            "Requirement already satisfied: MarkupSafe>=0.23 in /usr/local/lib/python3.10/dist-packages (from jinja2~=2.9->bonobo) (2.1.3)\n",
            "Requirement already satisfied: colorama<0.5,>=0.3.7 in /usr/local/lib/python3.10/dist-packages (from mondrian~=0.7->bonobo) (0.4.6)\n",
            "Requirement already satisfied: pyparsing>=2.0.2 in /usr/local/lib/python3.10/dist-packages (from packaging~=19.0->bonobo) (3.1.0)\n",
            "Requirement already satisfied: Unidecode>=0.04.16 in /usr/local/lib/python3.10/dist-packages (from python-slugify~=1.2.0->bonobo) (1.3.6)\n",
            "Requirement already satisfied: urllib3<1.27,>=1.21.1 in /usr/local/lib/python3.10/dist-packages (from requests~=2.0->bonobo) (1.26.16)\n",
            "Requirement already satisfied: certifi>=2017.4.17 in /usr/local/lib/python3.10/dist-packages (from requests~=2.0->bonobo) (2023.7.22)\n",
            "Requirement already satisfied: charset-normalizer~=2.0.0 in /usr/local/lib/python3.10/dist-packages (from requests~=2.0->bonobo) (2.0.12)\n",
            "Requirement already satisfied: idna<4,>=2.5 in /usr/local/lib/python3.10/dist-packages (from requests~=2.0->bonobo) (3.4)\n",
            "Requirement already satisfied: pbr!=2.1.0,>=2.0.0 in /usr/local/lib/python3.10/dist-packages (from stevedore~=1.27->bonobo) (5.11.1)\n"
          ]
        }
      ]
    },
    {
      "cell_type": "code",
      "source": [
        "# Dirty bugfix due to python 3.10\n",
        "import collections.abc\n",
        "collections.Iterable = collections.abc.Iterable\n",
        "collections.Mapping = collections.abc.Mapping\n",
        "collections.MutableSet = collections.abc.MutableSet\n",
        "collections.MutableMapping = collections.abc.MutableMapping"
      ],
      "metadata": {
        "id": "HzJ2T22YWXPB"
      },
      "execution_count": null,
      "outputs": []
    },
    {
      "cell_type": "code",
      "source": [
        "import requests\n",
        "import bonobo\n",
        "from lxml import etree"
      ],
      "metadata": {
        "id": "JezYvOCdVSBp"
      },
      "execution_count": null,
      "outputs": []
    },
    {
      "cell_type": "markdown",
      "source": [
        "## Unit Operation implementations (example)"
      ],
      "metadata": {
        "id": "5EVaXXVkXNEG"
      }
    },
    {
      "cell_type": "code",
      "execution_count": null,
      "metadata": {
        "id": "wSWTzJ1kTYWB"
      },
      "outputs": [],
      "source": [
        "class Reaction:\n",
        "    def __init__(self, parameters):\n",
        "        self.parameters = parameters\n",
        "    def execute(self):\n",
        "        print(\"Executing Reaction with parameters:\", self.parameters)\n",
        "\n",
        "\n",
        "class AddOnce:\n",
        "    def __init__(self, parameters):\n",
        "        self.parameters = parameters\n",
        "    def execute(self):\n",
        "        print(\"Executing AddOnce with parameters:\", self.parameters)\n",
        "\n",
        "\n",
        "class Dry:\n",
        "    def __init__(self, parameters):\n",
        "        self.parameters = parameters\n",
        "\n",
        "    def execute(self):\n",
        "        print(\"Executing Dry with parameters:\", self.parameters)"
      ]
    },
    {
      "cell_type": "markdown",
      "source": [
        "## Sequence runner"
      ],
      "metadata": {
        "id": "VHloCS2ZXucR"
      }
    },
    {
      "cell_type": "code",
      "source": [
        "def run_sequence(unit_operation):\n",
        "    for child in unit_operation.getchildren():\n",
        "        operation_name = child.tag\n",
        "        print(f\"Processing {operation_name}...\")\n",
        "\n",
        "        parameters = {param.tag: param.text for param in child.xpath('Parameters/*')}\n",
        "\n",
        "        if operation_name == \"Reaction\":\n",
        "            operation = Reaction(parameters)\n",
        "        elif operation_name == \"AddOnce\":\n",
        "            operation = AddOnce(parameters)\n",
        "        elif operation_name == \"Dry\":\n",
        "            operation = Dry(parameters)\n",
        "        else:\n",
        "            print(f\"Warning: Operation {operation_name} not recognized.\")\n",
        "            continue\n",
        "\n",
        "        operation.execute()"
      ],
      "metadata": {
        "id": "Ow171oONXsos"
      },
      "execution_count": null,
      "outputs": []
    },
    {
      "cell_type": "markdown",
      "source": [
        "## Read a real sequence and read unit operation parameters from a XML"
      ],
      "metadata": {
        "id": "cqmO_qNEXVqR"
      }
    },
    {
      "cell_type": "code",
      "source": [
        "def reader():\n",
        "    XML_URL = \"https://raw.githubusercontent.com/Gressling/S88-NG/main/sequence/Example/3UnitOperations.xml\"\n",
        "    response = requests.get(XML_URL)\n",
        "    response.raise_for_status()\n",
        "\n",
        "    root = etree.fromstring(response.content)\n",
        "    for unit_operation in root.xpath('//UnitOperation'):\n",
        "        yield unit_operation"
      ],
      "metadata": {
        "id": "kTz-_YXBWu4V"
      },
      "execution_count": null,
      "outputs": []
    },
    {
      "cell_type": "markdown",
      "source": [
        "## run"
      ],
      "metadata": {
        "id": "iguXjiWlW1hb"
      }
    },
    {
      "cell_type": "code",
      "source": [
        "def get_graph(**options):\n",
        "    graph = bonobo.Graph()\n",
        "    graph.add_chain(reader, run_sequence)\n",
        "    return graph"
      ],
      "metadata": {
        "id": "TiNvmyXYW6yH"
      },
      "execution_count": null,
      "outputs": []
    },
    {
      "cell_type": "code",
      "source": [
        "if __name__ == '__main__':\n",
        "    print(\"Starting process...\")\n",
        "    bonobo.run(get_graph())\n",
        "    print(\"Process completed.\")"
      ],
      "metadata": {
        "colab": {
          "base_uri": "https://localhost:8080/"
        },
        "id": "nuR-r5zhW0m1",
        "outputId": "8a5e5e9c-ba97-49b3-cb96-c42ffdd25377"
      },
      "execution_count": null,
      "outputs": [
        {
          "output_type": "stream",
          "name": "stdout",
          "text": [
            "Starting process...\n",
            "Processing Reaction...\n",
            "Executing Reaction with parameters: {'Reactants': 'Names or Chemical Formulas of Reactants', 'Stoichiometry': 'Stoichiometry and Balanced Chemical Equation', 'ReactionTemperature': 'Temperature value (°C)', 'ReactionTime': 'Duration of Reaction (hours or days)', 'Catalysts': 'List of Catalysts or Enzymes (if any)', 'Solvent': 'Type of Solvent Used', 'ReactionPressure': 'Pressure value (optional, if applicable)', 'pH': 'pH value (optional, if applicable)', 'MixingOrAgitation': 'Level of Mixing or Agitation', 'SafetyMeasures': 'Precautions during Reaction', 'YieldAndProductivity': 'Desired Yield and Productivity', 'ProductIsolationAndPurification': 'Methods of Isolation and Purification', 'ReactionMonitoring': 'Techniques for Monitoring the Reaction', 'ReactionConditions': 'Any Other Specific Conditions or Parameters'}\n",
            "Processing AddOnce...\n",
            "Executing AddOnce with parameters: {'Reactant': '...', 'Amount': '...', 'Timing': '...', 'RateOfAddition': '...', 'Temperature': '...', 'Pressure': '...', 'Stirring': '...', 'Solvent': '...', 'PH': '...', 'SafetyConsiderations': '...', 'ReactionEnvironment': '...', 'Equipment': '...'}\n",
            "Processing Dry...\n",
            "Executing Dry with parameters: {'Product': '...', 'DryingMethod': '...', 'DryingTemperature': '...', 'DryingTime': '...', 'Humidity': '...', 'ParticleSize': '...', 'Quantity': '...', 'DryingContainer': '...', 'ShelfConfiguration': '...', 'AirflowRate': '...', 'SafetyConsiderations': '...', 'Equipment': '...', 'QualityControlChecks': '...'}\n",
            "Process completed.\n"
          ]
        }
      ]
    }
  ]
}