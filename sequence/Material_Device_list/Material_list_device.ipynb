{
  "nbformat": 4,
  "nbformat_minor": 0,
  "metadata": {
    "colab": {
      "provenance": []
    },
    "kernelspec": {
      "name": "python3",
      "display_name": "Python 3"
    },
    "language_info": {
      "name": "python"
    }
  },
  "cells": [
    {
      "cell_type": "code",
      "execution_count": null,
      "metadata": {
        "id": "FawvirU4Vako"
      },
      "outputs": [],
      "source": []
    },
    {
      "cell_type": "code",
      "source": [
        "import xml.etree.ElementTree as ET\n",
        "\n",
        "# Load the XML file\n",
        "tree = ET.parse('/content/Workflow.xml')  # Replace with your actual XML file path\n",
        "root = tree.getroot()\n",
        "\n",
        "# Define lists to store materials and devices\n",
        "materials_list = []\n",
        "devices_list = []\n",
        "\n",
        "# Iterate through the XML and extract <material> and <device> content\n",
        "for material_elem in root.iter('material'):\n",
        "    material_content = material_elem.text\n",
        "    materials_list.append(material_content)\n",
        "\n",
        "for device_elem in root.iter('device'):\n",
        "    device_content = device_elem.text\n",
        "    devices_list.append(device_content)\n",
        "\n",
        "# Print the list of materials\n",
        "print(\"Materials:\")\n",
        "for material in materials_list:\n",
        "    print(material)\n",
        "\n",
        "# Print the list of devices\n",
        "print(\"\\nDevices:\")\n",
        "for device in devices_list:\n",
        "    print(device)\n"
      ],
      "metadata": {
        "colab": {
          "base_uri": "https://localhost:8080/"
        },
        "id": "FCtc1L61Vb5m",
        "outputId": "3140d65a-1585-4310-c934-dd5a2000704c"
      },
      "execution_count": 2,
      "outputs": [
        {
          "output_type": "stream",
          "name": "stdout",
          "text": [
            "Materials:\n",
            "Ethanol (50 mL)\n",
            "Reactants (100 g)\n",
            "Product (250 mg)\n",
            "\n",
            "Devices:\n",
            "Round-bottom flask\n",
            "Stirrer\n"
          ]
        }
      ]
    }
  ]
}