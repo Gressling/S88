{
  "nbformat": 4,
  "nbformat_minor": 0,
  "metadata": {
    "colab": {
      "provenance": []
    },
    "kernelspec": {
      "name": "python3",
      "display_name": "Python 3"
    },
    "language_info": {
      "name": "python"
    }
  },
  "cells": [
    {
      "cell_type": "code",
      "execution_count": 4,
      "metadata": {
        "colab": {
          "base_uri": "https://localhost:8080/"
        },
        "id": "d1e2c9v_fS3R",
        "outputId": "437ff90e-3dc1-44ca-86dd-ffee6ed15e45"
      },
      "outputs": [
        {
          "output_type": "stream",
          "name": "stdout",
          "text": [
            "List of Materials:\n",
            " - 500 ml Water\n",
            " - 1000 ml Solution\n",
            "\n"
          ]
        }
      ],
      "source": [
        "import lxml.etree as ET\n",
        "\n",
        "# Load the XML content from a file as bytes\n",
        "with open('/content/3unitoperation_temperature.xml', 'rb') as xml_file:\n",
        "    xml_content = xml_file.read()\n",
        "\n",
        "xml_tree = ET.fromstring(xml_content)\n",
        "\n",
        "# Load the XSLT stylesheet from a file\n",
        "with open('/content/BOM.xslt', 'r') as xslt_file:\n",
        "    xslt_content = xslt_file.read()\n",
        "\n",
        "xslt_tree = ET.fromstring(xslt_content)\n",
        "transform = ET.XSLT(xslt_tree)\n",
        "\n",
        "# Apply the transformation\n",
        "result_tree = transform(xml_tree)\n",
        "\n",
        "# Print the transformed output\n",
        "print(result_tree)\n"
      ]
    }
  ]
}