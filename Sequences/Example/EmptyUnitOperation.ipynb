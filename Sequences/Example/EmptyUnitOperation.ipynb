{
 "cells": [
  {
   "cell_type": "code",
   "execution_count": null,
   "metadata": {},
   "outputs": [],
   "source": [
    "import requests\n",
    "from lxml import etree\n",
    "\n",
    "def load_xml_from_url(xml_url):\n",
    "  response = requests.get(xml_url)\n",
    "  xml_doc = etree.fromstring(response.content)\n",
    "  return xml_doc\n",
    "\n",
    "def load_xsd_from_url(xsd_url):\n",
    "  response = requests.get(xsd_url)\n",
    "  xsd_doc = etree.fromstring(response.content)\n",
    "  xsd_schema = etree.XMLSchema(xsd_doc)\n",
    "  return xsd_schema\n",
    "\n",
    "#Validates XML against XSD\n",
    "def validate_xml(xml_doc, xsd_schema):\n",
    "  is_valid = xsd_schema.validate(xml_doc)\n",
    "  return is_valid\n",
    "\n",
    "#Prints result of validation\n",
    "def print_validation_result(is_valid):\n",
    "  if is_valid: print(\"The XML is valid against the XSD schema.\")\n",
    "  else: print(\"The XML is not valid against the XSD schema.\")\n",
    "  print(xsd_schema.error_log)\n"
   ]
  },
  {
   "cell_type": "code",
   "execution_count": null,
   "metadata": {},
   "outputs": [],
   "source": [
    "# Load XML document UnitOperation-AddOnce\n",
    "xml_doc = load_xml_from_url(\"https://raw.githubusercontent.com/Gressling/S88/main/Sequences/Example/EmptyUnitOperation.xml\")\n",
    "\n",
    "# Load XSD framework for UnitOperation\n",
    "xsd_schema = load_xsd_from_url(\"https://raw.githubusercontent.com/Gressling/S88/main/Sequences/Example/EmptyUnitOperation.xsd\")\n",
    "\n",
    "# Validate the XML against the XSD schema\n",
    "is_valid = validate_xml(xml_doc, xsd_schema)\n",
    "\n",
    "# Print validation result\n",
    "print_validation_result(is_valid)\n",
    "\n",
    "\n",
    "\n"
   ]
  }
 ],
 "metadata": {
  "language_info": {
   "name": "python"
  },
  "orig_nbformat": 4
 },
 "nbformat": 4,
 "nbformat_minor": 2
}
