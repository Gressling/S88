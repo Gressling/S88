{
  "nbformat": 4,
  "nbformat_minor": 0,
  "metadata": {
    "colab": {
      "provenance": []
    },
    "kernelspec": {
      "name": "python3",
      "display_name": "Python 3"
    },
    "language_info": {
      "name": "python"
    }
  },
  "cells": [
    {
      "cell_type": "code",
      "execution_count": 18,
      "metadata": {
        "id": "6a5kj_hthg-7",
        "outputId": "1fcf140a-e0a8-4030-82e3-b3d335a190d0",
        "colab": {
          "base_uri": "https://localhost:8080/"
        }
      },
      "outputs": [
        {
          "output_type": "stream",
          "name": "stdout",
          "text": [
            "The AddOnce uses 100.0 kg of Ethanol: $150.00\n"
          ]
        }
      ],
      "source": [
        "import xml.etree.ElementTree as ET\n",
        "import mysql.connector\n",
        "\n",
        "# Connect to the MySQL database\n",
        "db = mysql.connector.connect(\n",
        "    host=\"hostname\",\n",
        "    user=\"user\",\n",
        "    password=\"password\",\n",
        "    database=\"dbname\"\n",
        ")\n",
        "\n",
        "# Load the XML from a local file\n",
        "xml_file_path = \"/content/AddOnce_TestPrice.xml\"\n",
        "with open(xml_file_path, 'r') as xml_file:\n",
        "    xml_string = xml_file.read()\n",
        "\n",
        "root = ET.fromstring(xml_string)\n",
        "\n",
        "# Extract the unit operation name (tag after <UnitOperation>)\n",
        "unit_operation_name = list(root)[0].tag\n",
        "\n",
        "# Extract data from the XML\n",
        "reactant = root.find('AddOnce/Parameters/Reactant').text\n",
        "amount = float(root.find('AddOnce/Parameters/Amount').text)\n",
        "\n",
        "# Fetch data about the educt from the database\n",
        "cursor = db.cursor()\n",
        "cursor.execute(\"SELECT PricePerKg FROM Educts WHERE EductName = %s\", (reactant,))\n",
        "price_per_kg = float(cursor.fetchone()[0])  # Convert to float\n",
        "\n",
        "# Calculate the cost\n",
        "cost = price_per_kg * amount\n",
        "cursor.close()\n",
        "\n",
        "# Print the formatted message\n",
        "message = f\"The {unit_operation_name} uses {amount} kg of {reactant}: ${cost:.2f}\"\n",
        "print(message)\n"
      ]
    },
    {
      "cell_type": "code",
      "source": [
        "\n"
      ],
      "metadata": {
        "id": "e5g00TLKL37e"
      },
      "execution_count": 16,
      "outputs": []
    }
  ]
}