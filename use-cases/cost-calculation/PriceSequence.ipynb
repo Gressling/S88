{
  "nbformat": 4,
  "nbformat_minor": 0,
  "metadata": {
    "colab": {
      "provenance": []
    },
    "kernelspec": {
      "name": "python3",
      "display_name": "Python 3"
    },
    "language_info": {
      "name": "python"
    }
  },
  "cells": [
    {
      "cell_type": "code",
      "execution_count": 4,
      "metadata": {
        "id": "FawvirU4Vako"
      },
      "outputs": [],
      "source": []
    },
    {
      "cell_type": "code",
      "source": [
        "import xml.etree.ElementTree as ET\n",
        "import mysql.connector\n",
        "from decimal import Decimal\n",
        "\n",
        "# Function to calculate the cost of a specific unit operation\n",
        "def calculate_unit_operation_cost(operation_element, db_cursor):\n",
        "    operation_name = operation_element.tag\n",
        "    query = f\"SELECT UOCost, WorkCost FROM UnitOperations WHERE UOName = %s\"\n",
        "\n",
        "    db_cursor.execute(query, (operation_name,))\n",
        "    result = db_cursor.fetchone()\n",
        "\n",
        "    if result:\n",
        "        uo_cost, work_cost = result\n",
        "        return float(uo_cost + work_cost)\n",
        "    else:\n",
        "        return 0.0  # Default cost if operation not found in the database\n",
        "\n",
        "# Function to calculate the total cost of a sequence\n",
        "def calculate_sequence_cost(sequence_element, db_cursor):\n",
        "    total_cost = 0.0\n",
        "\n",
        "    for unit_operation_element in sequence_element:\n",
        "        if unit_operation_element.tag == \"UnitOperation\":\n",
        "            cost = calculate_unit_operation_cost(unit_operation_element[0], db_cursor)\n",
        "            total_cost += cost\n",
        "            print(f\"Unit Operation: {unit_operation_element[0].tag}, Cost: {cost:.2f}\")\n",
        "\n",
        "    return total_cost\n",
        "\n",
        "def main():\n",
        "    tree = ET.parse('/content/3UnitOperations.xml')  # Replace with your XML file path\n",
        "    root = tree.getroot()\n",
        "\n",
        "    # Connect to your MySQL database\n",
        "    db_connection = mysql.connector.connect(\n",
        "        host='host',\n",
        "        user='user',\n",
        "        password='password',\n",
        "        database='db'\n",
        "    )\n",
        "    db_cursor = db_connection.cursor()\n",
        "\n",
        "    total_sequence_cost = calculate_sequence_cost(root, db_cursor)\n",
        "\n",
        "    # Close the database connection\n",
        "    db_cursor.close()\n",
        "    db_connection.close()\n",
        "\n",
        "    print(f\"Total cost of the sequence: {total_sequence_cost:.2f}\")\n",
        "\n",
        "if __name__ == \"__main__\":\n",
        "    main()\n"
      ],
      "metadata": {
        "colab": {
          "base_uri": "https://localhost:8080/"
        },
        "id": "FCtc1L61Vb5m",
        "outputId": "9a1442bb-3742-4fde-f3de-a14c9d50c46d"
      },
      "execution_count": 16,
      "outputs": [
        {
          "output_type": "stream",
          "name": "stdout",
          "text": [
            "Unit Operation: Reaction, Cost: 550.00\n",
            "Unit Operation: AddOnce, Cost: 0.00\n",
            "Unit Operation: Dry, Cost: 125.00\n",
            "Total cost of the sequence: 675.00\n"
          ]
        }
      ]
    }
  ]
}