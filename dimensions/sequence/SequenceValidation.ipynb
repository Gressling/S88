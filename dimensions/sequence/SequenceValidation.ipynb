{
  "nbformat": 4,
  "nbformat_minor": 0,
  "metadata": {
    "colab": {
      "provenance": []
    },
    "kernelspec": {
      "name": "python3",
      "display_name": "Python 3"
    },
    "language_info": {
      "name": "python"
    }
  },
  "cells": [
    {
      "cell_type": "code",
      "execution_count": 5,
      "metadata": {
        "colab": {
          "base_uri": "https://localhost:8080/"
        },
        "id": "m1fjHeO-vcyC",
        "outputId": "65aa63bb-54e2-410c-96e9-b44b14f93f09"
      },
      "outputs": [
        {
          "output_type": "stream",
          "name": "stdout",
          "text": [
            "The Sequence is valid with its Unit Operations.\n"
          ]
        }
      ],
      "source": [
        "import requests\n",
        "from lxml import etree\n",
        "import io\n",
        "\n",
        "def fetch_xsd_files_with_content(api_url, access_token):\n",
        "    xsd_files_with_content = []\n",
        "\n",
        "    headers = {\"Authorization\": f\"token {access_token}\"}\n",
        "    response = requests.get(api_url, headers=headers)\n",
        "\n",
        "    if response.status_code == 200:\n",
        "        data = response.json()\n",
        "        for item in data:\n",
        "            if item['type'] == 'file' and item['name'].endswith('.xsd'):\n",
        "                xsd_url = item['download_url']\n",
        "                xsd_content = fetch_xsd_content(xsd_url)  # Fetch .xsd content\n",
        "                if xsd_content:\n",
        "                    xsd_files_with_content.append((item['name'], xsd_content))\n",
        "            elif item['type'] == 'dir':\n",
        "                xsd_files_with_content += fetch_xsd_files_with_content(item['url'], access_token)\n",
        "    else:\n",
        "        print(f\"Error: {response.status_code}\")\n",
        "\n",
        "    return xsd_files_with_content\n",
        "\n",
        "def fetch_xml_from_url(url):\n",
        "    try:\n",
        "        response = requests.get(url)\n",
        "        response.raise_for_status()  # Check for any HTTP errors\n",
        "        return response.text\n",
        "    except requests.exceptions.RequestException as e:\n",
        "        print(f\"Error fetching XML file from {url}: {e}\")\n",
        "        return None\n",
        "\n",
        "def is_valid_unit_operation(xsd_content, unit_operation_xml):\n",
        "    try:\n",
        "        # Parse the .xsd content\n",
        "        xsd_schema = etree.XMLSchema(etree.fromstring(xsd_content.encode()))  # Convert to bytes and parse\n",
        "        # Parse the UnitOperation XML\n",
        "        unit_operation_root = etree.XML(unit_operation_xml.encode())\n",
        "\n",
        "        # Validate the UnitOperation XML against the .xsd schema\n",
        "        return xsd_schema.validate(unit_operation_root)\n",
        "    except etree.XMLSyntaxError:\n",
        "        return False\n",
        "\n",
        "def fetch_xsd_content(url):\n",
        "    try:\n",
        "        response = requests.get(url)\n",
        "        response.raise_for_status()  # Check for any HTTP errors\n",
        "        return response.text\n",
        "    except requests.exceptions.RequestException as e:\n",
        "        print(f\"Error fetching .xsd file from {url}: {e}\")\n",
        "        return None\n",
        "\n",
        "# GitHub repository URL and other variables\n",
        "repository_url = 'https://github.com/Gressling/S88'\n",
        "api_url = 'https://api.github.com/repos/Gressling/S88/contents/'\n",
        "access_token = 'YOUR_GIT_HUB_ACESS_TOKEN'\n",
        "xsd_url = \"https://raw.githubusercontent.com/Gressling/S88/main/Sequences/Sequences.xsd\"\n",
        "\n",
        "# Fetch all .xsd files and XML content\n",
        "all_xsd_files_with_content = fetch_xsd_files_with_content(api_url, access_token)\n",
        "url_to_xml = \"https://raw.githubusercontent.com/Gressling/S88/main/Sequences/Example/3UnitOperations.xml\"\n",
        "xml_content = fetch_xml_from_url(url_to_xml)\n",
        "xsd_content = fetch_xsd_content(xsd_url)\n",
        "\n",
        "if xml_content is not None:\n",
        "    all_unit_operations_valid = True\n",
        "    for event, element in etree.iterparse(io.BytesIO(xml_content.encode()), events=('end',), tag='UnitOperation'):\n",
        "        tag_after_unit_operation = element.getchildren()[0].tag\n",
        "        unit_operation_valid = False\n",
        "        for xsd_filename, xsd_content in all_xsd_files_with_content:\n",
        "            if is_valid_unit_operation(xsd_content, etree.tostring(element).decode()):\n",
        "                unit_operation_valid = True\n",
        "                break\n",
        "        if not unit_operation_valid:\n",
        "            all_unit_operations_valid = False\n",
        "            print(f\"Unit Operation <{tag_after_unit_operation}> is not valid.\")\n",
        "        element.clear()  # Clear the element from memory after processing\n",
        "\n",
        "    if xml_content and xsd_content:\n",
        "        if all_unit_operations_valid:\n",
        "            print(\"The Sequence is valid with its Unit Operations.\")\n",
        "        else:\n",
        "            print(\"The Sequence is false but the UnitOperations are true.\")\n",
        "    else:\n",
        "        if xml_content is not None:\n",
        "            print(\"The Sequence is true but the UnitOperations are not valid.\")\n",
        "        else:\n",
        "            print(\"The Sequence and the UnitOperations are false.\")\n"
      ]
    }
  ]
}