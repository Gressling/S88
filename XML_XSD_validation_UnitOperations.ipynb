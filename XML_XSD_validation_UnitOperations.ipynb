{
 "cells": [
  {
   "cell_type": "code",
   "execution_count": 2,
   "id": "f11a3318",
   "metadata": {},
   "outputs": [],
   "source": [
    "import requests\n",
    "from lxml import etree\n",
    "\n",
    "def load_xml_from_url(xml_url):\n",
    "  response = requests.get(xml_url)\n",
    "  xml_doc = etree.fromstring(response.content)\n",
    "  return xml_doc\n",
    "\n",
    "def load_xsd_from_url(xsd_url):\n",
    "  response = requests.get(xsd_url)\n",
    "  xsd_doc = etree.fromstring(response.content)\n",
    "  xsd_schema = etree.XMLSchema(xsd_doc)\n",
    "  return xsd_schema\n",
    "\n",
    "def validate_xml(xml_doc, xsd_schema):\n",
    "  is_valid = xsd_schema.validate(xml_doc)\n",
    "  return is_valid\n",
    "\n",
    "def print_validation_result(is_valid):\n",
    "  if is_valid: print(\"The XML is valid against the XSD schema.\")\n",
    "  else: print(\"The XML is not valid against the XSD schema.\")\n",
    "  print(xsd_schema.error_log)"
   ]
  },
  {
   "cell_type": "code",
   "execution_count": null,
   "id": "c67387b3",
   "metadata": {},
   "outputs": [],
   "source": [
    "# Load XML document and schema\n",
    "xml_doc = load_xml_from_url(\"https://raw.githubusercontent.com/Gressling/S88/main/S88-UnitOperation-AddOnce.xml\")\n",
    "\n",
    "xsd_schema = load_xsd_from_url(\"https://raw.githubusercontent.com/Gressling/S88/main/S88-UnitOperation.xsd\")\n",
    "\n",
    "# Validate the XML against the XSD schema\n",
    "is_valid = validate_xml(xml_doc, xsd_schema)\n",
    "\n",
    "# Print validation result\n",
    "print_validation_result(is_valid)"
   ]
  },
  {
   "cell_type": "code",
   "execution_count": null,
   "id": "7d3e1efc",
   "metadata": {},
   "outputs": [],
   "source": []
  }
 ],
 "metadata": {
  "kernelspec": {
   "display_name": "Python 3 (ipykernel)",
   "language": "python",
   "name": "python3"
  },
  "language_info": {
   "codemirror_mode": {
    "name": "ipython",
    "version": 3
   },
   "file_extension": ".py",
   "mimetype": "text/x-python",
   "name": "python",
   "nbconvert_exporter": "python",
   "pygments_lexer": "ipython3",
   "version": "3.10.9"
  }
 },
 "nbformat": 4,
 "nbformat_minor": 5
}
