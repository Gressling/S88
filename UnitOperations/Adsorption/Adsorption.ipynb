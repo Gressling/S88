{
  "nbformat": 4,
  "nbformat_minor": 0,
  "metadata": {
    "colab": {
      "provenance": []
    },
    "kernelspec": {
      "name": "python3",
      "display_name": "Python 3"
    },
    "language_info": {
      "name": "python"
    }
  },
  "cells": [
    {
      "cell_type": "code",
      "execution_count": 1,
      "metadata": {
        "colab": {
          "base_uri": "https://localhost:8080/"
        },
        "id": "6ds7vUL0ZDVj",
        "outputId": "08059915-8ed2-4aee-b465-1195d7eedc0e"
      },
      "outputs": [
        {
          "output_type": "stream",
          "name": "stdout",
          "text": [
            "The XML is valid against the XSD schema.\n"
          ]
        }
      ],
      "source": [
        "import requests\n",
        "from lxml import etree\n",
        "\n",
        "def load_xml_from_url(xml_url):\n",
        "    response = requests.get(xml_url)\n",
        "    xml_doc = etree.fromstring(response.content)\n",
        "    return xml_doc\n",
        "\n",
        "def load_xsd_from_url(xsd_url):\n",
        "    response = requests.get(xsd_url)\n",
        "    xsd_doc = etree.fromstring(response.content)\n",
        "    xsd_schema = etree.XMLSchema(xsd_doc)\n",
        "    return xsd_schema\n",
        "\n",
        "# Validates XML against XSD\n",
        "def validate_xml(xml_doc, xsd_schema):\n",
        "    is_valid = xsd_schema.validate(xml_doc)\n",
        "    return is_valid\n",
        "\n",
        "# Prints result of validation\n",
        "def print_validation_result(is_valid):\n",
        "    if is_valid:\n",
        "        print(\"The XML is valid against the XSD schema.\")\n",
        "    else:\n",
        "        print(\"The XML is not valid against the XSD schema.\")\n",
        "        print(xsd_schema.error_log)\n",
        "\n",
        "# Load XML document for Adsorption\n",
        "xml_doc = load_xml_from_url(\"https://raw.githubusercontent.com/Gressling/S88/main/UnitOperations/Absorption/Absorption-test.xml\")\n",
        "\n",
        "# Load XSD framework for Adsorption\n",
        "xsd_schema = load_xsd_from_url(\"https://raw.githubusercontent.com/Gressling/S88/main/UnitOperations/Absorption/Absorption.xsd\")\n",
        "\n",
        "# Validate the XML against the XSD schema\n",
        "is_valid = validate_xml(xml_doc, xsd_schema)\n",
        "\n",
        "# Print validation result\n",
        "print_validation_result(is_valid)"
      ]
    }
  ]
}