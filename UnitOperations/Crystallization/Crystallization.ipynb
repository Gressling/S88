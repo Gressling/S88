{
  "nbformat": 4,
  "nbformat_minor": 0,
  "metadata": {
    "colab": {
      "provenance": []
    },
    "kernelspec": {
      "name": "python3",
      "display_name": "Python 3"
    },
    "language_info": {
      "name": "python"
    }
  },
  "cells": [
    {
      "cell_type": "code",
      "execution_count": 7,
      "metadata": {
        "colab": {
          "base_uri": "https://localhost:8080/"
        },
        "id": "6ds7vUL0ZDVj",
        "outputId": "f8779b51-f503-4933-899f-28ecdcac83b4"
      },
      "outputs": [
        {
          "output_type": "stream",
          "name": "stdout",
          "text": [
            "The XML is valid against the XSD schema.\n"
          ]
        }
      ],
      "source": [
        "import requests\n",
        "from lxml import etree\n",
        "\n",
        "\n",
        "import requests\n",
        "from lxml import etree\n",
        "\n",
        "def load_xml_from_url(xml_url):\n",
        "    response = requests.get(xml_url)\n",
        "    if response.status_code == 200:\n",
        "        # Remove any leading whitespace or non-XML content from the response\n",
        "        xml_content = response.text.lstrip()\n",
        "        xml_doc = etree.fromstring(xml_content.encode('utf-8'))\n",
        "        return xml_doc\n",
        "    else:\n",
        "        print(f\"Failed to retrieve XML from {xml_url}. Status code: {response.status_code}\")\n",
        "        return None\n",
        "\n",
        "def load_xml_from_url(xml_url):\n",
        "    response = requests.get(xml_url)\n",
        "    xml_doc = etree.fromstring(response.content)\n",
        "    return xml_doc\n",
        "\n",
        "def load_xsd_from_url(xsd_url):\n",
        "    response = requests.get(xsd_url)\n",
        "    xsd_doc = etree.fromstring(response.content)\n",
        "    xsd_schema = etree.XMLSchema(xsd_doc)\n",
        "    return xsd_schema\n",
        "\n",
        "# Validates XML against XSD\n",
        "def validate_xml(xml_doc, xsd_schema):\n",
        "    is_valid = xsd_schema.validate(xml_doc)\n",
        "    return is_valid\n",
        "\n",
        "# Prints result of validation\n",
        "def print_validation_result(is_valid):\n",
        "    if is_valid:\n",
        "        print(\"The XML is valid against the XSD schema.\")\n",
        "    else:\n",
        "        print(\"The XML is not valid against the XSD schema.\")\n",
        "        print(xsd_schema.error_log)\n",
        "\n",
        "# Load XML document for Crystallization\n",
        "xml_doc = load_xml_from_url(\"https://raw.githubusercontent.com/Gressling/S88/main/UnitOperations/Crystallization/Crystallization-test.xml\")\n",
        "\n",
        "# Load XSD framework for Crystallization\n",
        "xsd_schema = load_xsd_from_url(\"https://raw.githubusercontent.com/Gressling/S88/main/UnitOperations/Crystallization/Crystallization.xsd\")\n",
        "\n",
        "# Validate the XML against the XSD schema\n",
        "is_valid = validate_xml(xml_doc, xsd_schema)\n",
        "\n",
        "# Print validation result\n",
        "print_validation_result(is_valid)"
      ]
    }
  ]
}