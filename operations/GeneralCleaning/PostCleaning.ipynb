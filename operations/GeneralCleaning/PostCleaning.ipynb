{
  "nbformat": 4,
  "nbformat_minor": 0,
  "metadata": {
    "colab": {
      "provenance": []
    },
    "kernelspec": {
      "name": "python3",
      "display_name": "Python 3"
    },
    "language_info": {
      "name": "python"
    }
  },
  "cells": [
    {
      "cell_type": "code",
      "execution_count": 14,
      "metadata": {
        "colab": {
          "base_uri": "https://localhost:8080/"
        },
        "id": "Mf-J-9IapTzY",
        "outputId": "dcfbdead-8366-4bc1-92ee-d9ea6a347e9a"
      },
      "outputs": [
        {
          "output_type": "stream",
          "name": "stdout",
          "text": [
            "XML is valid against the XSD schema.\n"
          ]
        }
      ],
      "source": [
        "\n",
        "\n",
        "\n",
        "\n",
        "from lxml import etree\n",
        "\n",
        "# Load the XML and XSD files\n",
        "xml_file = \"/content/PostCleaning.xml\"  # Replace with the path to your XML file\n",
        "xsd_file = \"/content/PostCleaning.xsd\"  # Replace with the path to your XSD file\n",
        "\n",
        "# Load the XML and XSD content\n",
        "xml_tree = etree.parse(xml_file)\n",
        "xsd_tree = etree.parse(xsd_file)\n",
        "\n",
        "# Create a schema from the XSD\n",
        "schema = etree.XMLSchema(xsd_tree)\n",
        "\n",
        "# Validate the XML against the XSD schema\n",
        "is_valid = schema.validate(xml_tree)\n",
        "\n",
        "# Print the validation result\n",
        "if is_valid:\n",
        "    print(\"XML is valid against the XSD schema.\")\n",
        "else:\n",
        "    print(\"XML is not valid against the XSD schema.\")\n",
        "    print(\"Validation errors:\")\n",
        "    for error in schema.error_log:\n",
        "        print(error)\n"
      ]
    },
    {
      "cell_type": "code",
      "source": [
        "pip install lxml"
      ],
      "metadata": {
        "colab": {
          "base_uri": "https://localhost:8080/"
        },
        "id": "dXBgWUeNqLyc",
        "outputId": "169fd9bb-9212-477d-9cf2-1e5b6c604804"
      },
      "execution_count": 11,
      "outputs": [
        {
          "output_type": "stream",
          "name": "stdout",
          "text": [
            "Requirement already satisfied: lxml in /usr/local/lib/python3.10/dist-packages (4.9.3)\n"
          ]
        }
      ]
    }
  ]
}