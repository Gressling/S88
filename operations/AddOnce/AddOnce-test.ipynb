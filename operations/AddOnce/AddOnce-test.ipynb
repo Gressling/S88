{
  "cells": [
    {
      "cell_type": "code",
      "execution_count": 52,
      "id": "f11a3318",
      "metadata": {
        "id": "f11a3318"
      },
      "outputs": [],
      "source": [
        "import requests\n",
        "from lxml import etree\n",
        "\n",
        "def load_xml_from_url(xml_url):\n",
        "  response = requests.get(xml_url)\n",
        "  xml_doc = etree.fromstring(response.content)\n",
        "  return xml_doc\n",
        "\n",
        "def load_xsd_from_url(xsd_url):\n",
        "  response = requests.get(xsd_url)\n",
        "  xsd_doc = etree.fromstring(response.content)\n",
        "  xsd_schema = etree.XMLSchema(xsd_doc)\n",
        "  return xsd_schema\n",
        "\n",
        "#Validates XML against XSD\n",
        "def validate_xml(xml_doc, xsd_schema):\n",
        "  is_valid = xsd_schema.validate(xml_doc)\n",
        "  return is_valid\n",
        "\n",
        "#Prints result of validation\n",
        "def print_validation_result(is_valid):\n",
        "  if is_valid: print(\"The XML is valid against the XSD schema.\")\n",
        "  else: print(\"The XML is not valid against the XSD schema.\")\n",
        "  print(xsd_schema.error_log)\n"
      ]
    },
    {
      "cell_type": "code",
      "execution_count": 53,
      "id": "c67387b3",
      "metadata": {
        "colab": {
          "base_uri": "https://localhost:8080/"
        },
        "id": "c67387b3",
        "outputId": "67b40dec-77cc-47c3-affa-abf7f81a0298"
      },
      "outputs": [
        {
          "output_type": "stream",
          "name": "stdout",
          "text": [
            "The XML is valid against the XSD schema.\n",
            "\n"
          ]
        }
      ],
      "source": [
        "# Load XML document UnitOperation-AddOnce\n",
        "xml_doc = load_xml_from_url(\"https://raw.githubusercontent.com/Gressling/S88/main/UnitOperations/AddOnce/AddOnce-test.xml\")\n",
        "\n",
        "# Load XSD framework for UnitOperation\n",
        "xsd_schema = load_xsd_from_url(\"https://raw.githubusercontent.com/Gressling/S88/main/UnitOperations/AddOnce/AddOnce.xsd\")\n",
        "\n",
        "# Validate the XML against the XSD schema\n",
        "is_valid = validate_xml(xml_doc, xsd_schema)\n",
        "\n",
        "# Print validation result\n",
        "print_validation_result(is_valid)\n",
        "\n"
      ]
    },
    {
      "cell_type": "code",
      "execution_count": 54,
      "id": "7d3e1efc",
      "metadata": {
        "id": "7d3e1efc",
        "colab": {
          "base_uri": "https://localhost:8080/"
        },
        "outputId": "a3ad336c-15ce-404a-8e00-43feb469a349"
      },
      "outputs": [
        {
          "output_type": "stream",
          "name": "stdout",
          "text": [
            "Empty DataFrame\n",
            "Columns: [Reactant, Amount, Timing, Rate of Addition, Temperature, Pressure, Stirring, Solvent, pH, Safety Considerations, Reaction Environment, Equipment]\n",
            "Index: []\n"
          ]
        }
      ],
      "source": [
        "# Creating dataframe for XML\n",
        "# Parse the XML file UnitOperation-AddOnce-Aspirin\n",
        "\n",
        "import pandas as pd\n",
        "import xml.etree.ElementTree as ET\n",
        "\n",
        "\n",
        "url = \"https://raw.githubusercontent.com/Gressling/S88/main/S88-UnitOperation-AddOnce-Aspirin.xml\"\n",
        "response = requests.get(url)\n",
        "xml_data = response.content\n",
        "\n",
        "# Parse the XML data\n",
        "root = ET.fromstring(xml_data)\n",
        "\n",
        "#List to store extracted data\n",
        "reactant_list = []\n",
        "amount_list = []\n",
        "timing_list = []\n",
        "rate_of_addition_list = []\n",
        "temperature_list = []\n",
        "pressure_list = []\n",
        "stirring_list = []\n",
        "solvent_list = []\n",
        "pH_list = []\n",
        "safety_considerations_list = []\n",
        "reaction_environment_list = []\n",
        "equipment_list = []\n",
        "\n",
        "# Extract data from XML and populate the lists\n",
        "for unit_operation in root.findall(\"UnitOperation/UnitOperationName\"):\n",
        "    reactant_list.append(unit_operation.find('Parameters/Reactant').text)\n",
        "    amount_list.append(unit_operation.find('Parameters/Amount').text)\n",
        "    timing_list.append(unit_operation.find('Parameters/Timing').text)\n",
        "    rate_of_addition_list.append(unit_operation.find('Parameters/RateOfAddition').text)\n",
        "    temperature_list.append(unit_operation.find('Parameters/Temperature').text)\n",
        "    pressure_list.append(unit_operation.find('Parameters/Pressure').text)\n",
        "    stirring_list.append(unit_operation.find('Parameters/Stirring').text)\n",
        "    solvent_list.append(unit_operation.find('Parameters/Solvent').text)\n",
        "    pH_list.append(unit_operation.find('Parameters/PH').text)\n",
        "    safety_considerations_list.append(unit_operation.find('Parameters/SafetyConsiderations').text)\n",
        "    reaction_environment_list.append(unit_operation.find('Parameters/ReactionEnvironment').text)\n",
        "    equipment_list.append(unit_operation.find('Parameters/Equipment').text)\n",
        "\n",
        "# Create a dictionary to hold the data\n",
        "data = {\n",
        "    'Reactant': reactant_list,\n",
        "    'Amount': amount_list,\n",
        "    'Timing': timing_list,\n",
        "    'Rate of Addition': rate_of_addition_list,\n",
        "    'Temperature': temperature_list,\n",
        "    'Pressure': pressure_list,\n",
        "    'Stirring': stirring_list,\n",
        "    'Solvent': solvent_list,\n",
        "    'pH': pH_list,\n",
        "    'Safety Considerations': safety_considerations_list,\n",
        "    'Reaction Environment': reaction_environment_list,\n",
        "    'Equipment': equipment_list\n",
        "}\n",
        "\n",
        "# Create the dataframe\n",
        "df = pd.DataFrame(data)\n",
        "\n",
        "# Print the dataframe\n",
        "print(df)\n"
      ]
    }
  ],
  "metadata": {
    "kernelspec": {
      "display_name": "Python 3 (ipykernel)",
      "language": "python",
      "name": "python3"
    },
    "language_info": {
      "codemirror_mode": {
        "name": "ipython",
        "version": 3
      },
      "file_extension": ".py",
      "mimetype": "text/x-python",
      "name": "python",
      "nbconvert_exporter": "python",
      "pygments_lexer": "ipython3",
      "version": "3.10.9"
    },
    "colab": {
      "provenance": []
    }
  },
  "nbformat": 4,
  "nbformat_minor": 5
}
