{
  "nbformat": 4,
  "nbformat_minor": 0,
  "metadata": {
    "colab": {
      "provenance": []
    },
    "kernelspec": {
      "name": "python3",
      "display_name": "Python 3"
    },
    "language_info": {
      "name": "python"
    }
  },
  "cells": [
    {
      "cell_type": "code",
      "execution_count": 4,
      "metadata": {
        "id": "FawvirU4Vako"
      },
      "outputs": [],
      "source": []
    },
    {
      "cell_type": "code",
      "source": [
        "from lxml import etree\n",
        "\n",
        "# Load the XML and XSD files\n",
        "xml_file = \"/content/Weighing.xml\"\n",
        "xsd_file = \"/content/Weighing.xsd\"\n",
        "\n",
        "# Load the XML and XSD content\n",
        "xml_tree = etree.parse(xml_file)\n",
        "xsd_tree = etree.parse(xsd_file)\n",
        "\n",
        "# Create a schema from the XSD\n",
        "schema = etree.XMLSchema(xsd_tree)\n",
        "\n",
        "# Validate the XML against the XSD schema\n",
        "is_valid = schema.validate(xml_tree)\n",
        "\n",
        "# Print the validation result\n",
        "if is_valid:\n",
        "    print(\"XML is valid against the XSD schema.\")\n",
        "else:\n",
        "    print(\"XML is not valid against the XSD schema.\")\n",
        "    print(\"Validation errors:\")\n",
        "    for error in schema.error_log:\n",
        "        print(error)\n"
      ],
      "metadata": {
        "colab": {
          "base_uri": "https://localhost:8080/"
        },
        "id": "FCtc1L61Vb5m",
        "outputId": "fc46258b-b8c3-4f9d-8951-3e7e88ec211e"
      },
      "execution_count": 17,
      "outputs": [
        {
          "output_type": "stream",
          "name": "stdout",
          "text": [
            "XML is valid against the XSD schema.\n"
          ]
        }
      ]
    }
  ]
}