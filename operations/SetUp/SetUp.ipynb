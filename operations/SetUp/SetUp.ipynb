{
  "nbformat": 4,
  "nbformat_minor": 0,
  "metadata": {
    "colab": {
      "provenance": []
    },
    "kernelspec": {
      "name": "python3",
      "display_name": "Python 3"
    },
    "language_info": {
      "name": "python"
    }
  },
  "cells": [
    {
      "cell_type": "code",
      "execution_count": 4,
      "metadata": {
        "id": "FawvirU4Vako"
      },
      "outputs": [],
      "source": []
    },
    {
      "cell_type": "code",
      "source": [
        "from lxml import etree\n",
        "\n",
        "# Load the XML and XSD files\n",
        "xml_file = \"/content/SetUp.xml\"\n",
        "xsd_file = \"/content/SetUp.xsd\"\n",
        "\n",
        "# Load the XML and XSD content\n",
        "xml_tree = etree.parse(xml_file)\n",
        "xsd_tree = etree.parse(xsd_file)\n",
        "\n",
        "# Create a schema from the XSD\n",
        "schema = etree.XMLSchema(xsd_tree)\n",
        "\n",
        "# Validate the XML against the XSD schema\n",
        "is_valid = schema.validate(xml_tree)\n",
        "\n",
        "# Print the validation result\n",
        "if is_valid:\n",
        "    print(\"XML is valid against the XSD schema.\")\n",
        "else:\n",
        "    print(\"XML is not valid against the XSD schema.\")\n",
        "    print(\"Validation errors:\")\n",
        "    for error in schema.error_log:\n",
        "        print(error)\n"
      ],
      "metadata": {
        "colab": {
          "base_uri": "https://localhost:8080/"
        },
        "id": "FCtc1L61Vb5m",
        "outputId": "59ea12c9-ceac-4b50-8ce6-5ea97f2910ca"
      },
      "execution_count": 18,
      "outputs": [
        {
          "output_type": "stream",
          "name": "stdout",
          "text": [
            "XML is valid against the XSD schema.\n"
          ]
        }
      ]
    }
  ]
}