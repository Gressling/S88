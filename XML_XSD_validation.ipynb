{
  "nbformat": 4,
  "nbformat_minor": 0,
  "metadata": {
    "colab": {
      "provenance": [],
      "authorship_tag": "ABX9TyPzdWpkDWJazlZYmwvhfRST",
      "include_colab_link": true
    },
    "kernelspec": {
      "name": "python3",
      "display_name": "Python 3"
    },
    "language_info": {
      "name": "python"
    }
  },
  "cells": [
    {
      "cell_type": "markdown",
      "metadata": {
        "id": "view-in-github",
        "colab_type": "text"
      },
      "source": [
        "<a href=\"https://colab.research.google.com/github/Gressling/S88/blob/main/XML_XSD_validation.ipynb\" target=\"_parent\"><img src=\"https://colab.research.google.com/assets/colab-badge.svg\" alt=\"Open In Colab\"/></a>"
      ]
    },
    {
      "cell_type": "code",
      "execution_count": 6,
      "metadata": {
        "colab": {
          "base_uri": "https://localhost:8080/"
        },
        "id": "cbeV96jtzPzy",
        "outputId": "42afb543-6e72-49f7-8b11-4bc5b315ee01"
      },
      "outputs": [
        {
          "output_type": "stream",
          "name": "stdout",
          "text": [
            "The XML is valid against the XSD schema.\n",
            "\n"
          ]
        }
      ],
      "source": [
        "import requests\n",
        "from lxml import etree\n",
        "\n",
        "def load_xml_from_url(xml_url):\n",
        "  response = requests.get(xml_url)\n",
        "  xml_doc = etree.fromstring(response.content)\n",
        "  return xml_doc\n",
        "\n",
        "def load_xsd_from_url(xsd_url):\n",
        "  response = requests.get(xsd_url)\n",
        "  xsd_doc = etree.fromstring(response.content)\n",
        "  xsd_schema = etree.XMLSchema(xsd_doc)\n",
        "  return xsd_schema\n",
        "\n",
        "def validate_xml(xml_doc, xsd_schema):\n",
        "  is_valid = xsd_schema.validate(xml_doc)\n",
        "  return is_valid\n",
        "\n",
        "def print_validation_result(is_valid):\n",
        "  if is_valid: print(\"The XML is valid against the XSD schema.\")\n",
        "  else: print(\"The XML is not valid against the XSD schema.\")\n",
        "  print(xsd_schema.error_log)"
      ]
    },
    {
      "cell_type": "code",
      "source": [
        "# Load XML document and schema\n",
        "# xml_doc = load_xml_from_url(\"https://raw.githubusercontent.com/Gressling/S88/main/S88-test.xml\")\n",
        "xml_doc = load_xml_from_url(\"https://raw.githubusercontent.com/Gressling/S88/main/S88-test-notValid.xml\")\n",
        "\n",
        "xsd_schema = load_xsd_from_url(\"https://raw.githubusercontent.com/Gressling/S88/main/s88.xsd\")\n",
        "\n",
        "# Validate the XML against the XSD schema\n",
        "is_valid = validate_xml(xml_doc, xsd_schema)\n",
        "\n",
        "# Print validation result\n",
        "print_validation_result(is_valid)"
      ],
      "metadata": {
        "colab": {
          "base_uri": "https://localhost:8080/"
        },
        "id": "QkKV3Tww1ABI",
        "outputId": "9db29389-66f9-46b2-98cf-b350c85643cd"
      },
      "execution_count": 8,
      "outputs": [
        {
          "output_type": "stream",
          "name": "stdout",
          "text": [
            "The XML is not valid against the XSD schema.\n",
            "<string>:5:0:ERROR:SCHEMASV:SCHEMAV_ELEMENT_CONTENT: Element 'UnitOperationNam': This element is not expected. Expected is ( UnitOperationName ).\n"
          ]
        }
      ]
    }
  ]
}